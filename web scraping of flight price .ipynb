{
 "cells": [
  {
   "cell_type": "markdown",
   "id": "db0f64ca",
   "metadata": {},
   "source": [
    "## import the module "
   ]
  },
  {
   "cell_type": "code",
   "execution_count": null,
   "id": "688d031f",
   "metadata": {},
   "outputs": [],
   "source": [
    "import pandas as pd\n",
    "import numpy as np\n",
    "import requests\n",
    "import re\n",
    "from bs4 import BeautifulSoup\n",
    "from selenium import webdriver\n",
    "import time\n",
    "import datetime\n",
    "from datetime import date\n",
    "from selenium.webdriver.support.ui import WebDriverWait\n",
    "from selenium.webdriver.common.by import By\n",
    "from selenium.webdriver.support import expected_conditions as EC\n",
    "from dateutil.relativedelta import relativedelta\n",
    "import warnings \n",
    "warnings.filterwarnings('ignore')\n",
    "import csv\n",
    "import linecache\n",
    "import sys"
   ]
  },
  {
   "cell_type": "code",
   "execution_count": null,
   "id": "a8c71701",
   "metadata": {},
   "outputs": [],
   "source": [
    "## open the web page \n",
    "driver=webdriver.Chrome(r\"C:\\Users\\MANISHA JUDHA\\Downloads\\chromedriver_win32 (2)\\chromedriver.exe\")"
   ]
  },
  {
   "cell_type": "markdown",
   "id": "1a721947",
   "metadata": {},
   "source": [
    "### Scraping data from Yatra.com"
   ]
  },
  {
   "cell_type": "code",
   "execution_count": null,
   "id": "e77d1692",
   "metadata": {},
   "outputs": [],
   "source": [
    "## load the web page \n",
    "url = \"https://www.yatra.com/\"\n",
    "driver.get(url)\n",
    "time.sleep(3)"
   ]
  },
  {
   "cell_type": "code",
   "execution_count": null,
   "id": "eac2d53a",
   "metadata": {},
   "outputs": [],
   "source": [
    "##clicking search button\n",
    "search_btn = driver.find_element_by_xpath(\"//input[@class='js_ripple search-btn ']\")\n",
    "search_btn.click()"
   ]
  },
  {
   "cell_type": "code",
   "execution_count": null,
   "id": "d4180447",
   "metadata": {},
   "outputs": [],
   "source": [
    "#making list of locations\n",
    "city_lst = ['New Delhi', 'Mumbai', 'Bangalore', 'Chennai','Hyderabad ','Goa ','Kolkata ','Jaipur ','Lucknow ']"
   ]
  },
  {
   "cell_type": "markdown",
   "id": "d0d9574c",
   "metadata": {},
   "source": [
    "Problem Statement:                                                                                                                This contains the problem statement and business goal"
   ]
  },
  {
   "cell_type": "code",
   "execution_count": null,
   "id": "7ee654de",
   "metadata": {},
   "outputs": [],
   "source": [
    "def ticket_chooser(ticket):\n",
    "\n",
    "    try:\n",
    "        ticket_type = browser.find_element_by_xpath(ticket)\n",
    "        ticket_type.click()\n",
    "    except Exception as e:\n",
    "        pass"
   ]
  },
  {
   "cell_type": "code",
   "execution_count": null,
   "id": "12ba79fb",
   "metadata": {},
   "outputs": [],
   "source": [
    "# For departure place name\n",
    "def dep_place_chooser(dep_place):\n",
    "    fly_from = browser.find_element_by_xpath(\"//input[@id='flight-origin-hp-flight']\")\n",
    "    time.sleep(1)\n",
    "    fly_from.clear()\n",
    "    time.sleep(1.5)\n",
    "    fly_from.send_keys('  ' + dep_place)\n",
    "    time.sleep(1.5)\n",
    "    first_item = browser.find_element_by_xpath(\"//a[@id='aria-option-0']\")\n",
    "    time.sleep(1.5)\n",
    "    first_item.click()"
   ]
  },
  {
   "cell_type": "code",
   "execution_count": null,
   "id": "2e166588",
   "metadata": {},
   "outputs": [],
   "source": [
    "# For arrival place name\n",
    "def arr_place_chooser(arr_place):\n",
    "    fly_to = browser.find_element_by_xpath(\"//input[@id='flight-destination-hp-flight']\")\n",
    "    time.sleep(1)\n",
    "    fly_to.clear()\n",
    "    time.sleep(1.5)\n",
    "    fly_to.send_keys('  ' + arr_place)\n",
    "    time.sleep(1.5)\n",
    "    first_item = browser.find_element_by_xpath(\"//a[@id='aria-option-0']\")\n",
    "    time.sleep(1.5)\n",
    "    first_item.click()"
   ]
  },
  {
   "cell_type": "code",
   "execution_count": null,
   "id": "0f258d97",
   "metadata": {},
   "outputs": [],
   "source": [
    "# Departure date\n",
    "def dep_date_chooser(month, day, year):\n",
    "    dep_date_button = browser.find_element_by_xpath(\"//input[@id='flight-departing-hp-flight']\")\n",
    "    dep_date_button.clear()\n",
    "    dep_date_button.send_keys(month + '/' + day + '/' + year)"
   ]
  },
  {
   "cell_type": "code",
   "execution_count": null,
   "id": "4ac5e640",
   "metadata": {},
   "outputs": [],
   "source": [
    "# Return date\n",
    "def return_date_chooser(month, day, year):\n",
    "    return_date_button = browser.find_element_by_xpath(\"//input[@id='flight-returning-hp-flight']\")\n",
    "\n",
    "    for i in range(11):\n",
    "        return_date_button.send_keys(Keys.BACKSPACE)\n",
    "    return_date_button.send_keys(month + '/' + day + '/' + year)"
   ]
  },
  {
   "cell_type": "code",
   "execution_count": null,
   "id": "469a77da",
   "metadata": {},
   "outputs": [],
   "source": [
    "def search():\n",
    "    search = browser.find_element_by_xpath(\"//button[@class='btn-primary btn-action gcw-submit']\")\n",
    "    search.click()\n",
    "    time.sleep(15)\n",
    "    print('Results ready!')"
   ]
  },
  {
   "cell_type": "code",
   "execution_count": null,
   "id": "f6f7f689",
   "metadata": {},
   "outputs": [],
   "source": [
    "# Let's make a list of locations to scrap data\n",
    "#loc_lst = ['New Delhi', 'Mumbai', 'Bangalore', 'Chennai','Hyderabad ','Goa ','Kolkata ','Jaipur ','Lucknow ']"
   ]
  },
  {
   "cell_type": "code",
   "execution_count": null,
   "id": "f1494d47",
   "metadata": {},
   "outputs": [],
   "source": [
    "#making empty to store data:\n",
    "Airline = []\n",
    "Source = []\n",
    "Destination = []\n",
    "Departure_Time = []\n",
    "Arrival_Time = []\n",
    "Duration = []\n",
    "Meal=[] \n",
    "Total_Stops = []\n",
    "Price = []\n",
    "Location=[]"
   ]
  },
  {
   "cell_type": "code",
   "execution_count": null,
   "id": "5f2f3017",
   "metadata": {},
   "outputs": [],
   "source": [
    "# Scraping the data from the mentioned url\n",
    "\n",
    "# Fetching webelement of source \n",
    "for x in city_lst:\n",
    "    for y in city_lst:\n",
    "        if x!=y:                 \n",
    "            Source = driver.find_elements_by_xpath(\"//div[@class='i-b col-4 no-wrap text-right dtime col-3']/p\")\n",
    "            time.sleep(2)\n",
    "            Source.clear() \n",
    "            #Source.send_keys(x)\n",
    "            time.sleep(2)"
   ]
  },
  {
   "cell_type": "code",
   "execution_count": null,
   "id": "2c23f56a",
   "metadata": {},
   "outputs": [],
   "source": [
    "df=pd.DataFrame()\n",
    "def compile_data():\n",
    "    global df\n",
    "    global dep_times_list\n",
    "    global arr_times_list\n",
    "    global airlines_list\n",
    "    global price_list\n",
    "    global durations_list\n",
    "    global stops_list\n",
    "    global layovers_list"
   ]
  },
  {
   "cell_type": "code",
   "execution_count": null,
   "id": "52f1a85c",
   "metadata": {},
   "outputs": [],
   "source": [
    "#departure times\n",
    "dep_times = driver.find_elements_by_xpath(\"//span[@data-test-id='departure-time']\")\n",
    "dep_times_list = [value.text for value in dep_times]\n",
    "\n",
    "#arrival times\n",
    "arr_times = driver.find_elements_by_xpath(\"//span[@data-test-id='arrival-time']\")\n",
    "arr_times_list = [value.text for value in arr_times]\n",
    "\n",
    " #airline name\n",
    "airlines = driver.find_elements_by_xpath(\"//span[@data-test-id='airline-name']\")\n",
    "airlines_list = [value.text for value in airlines]\n",
    "\n",
    "#prices\n",
    "prices = driver.find_elements_by_xpath(\"//span[@data-test-id='listing-price-dollars']\")\n",
    "price_list = [value.text.split('/div>')[1] for value in prices]\n",
    "\n",
    "#durations\n",
    "durations = driver.find_elements_by_xpath(\"//span[@data-test-id='duration']\")\n",
    "durations_list = [value.text for value in durations]\n",
    "\n",
    "#stops\n",
    "stops = driver.find_elements_by_xpath(\"//span[@class='number-stops']\")\n",
    "stops_list = [value.text for value in stops]\n",
    "\n",
    "#layovers\n",
    "layovers = driver.find_elements_by_xpath(\"//span[@data-test-id='layover-airport-stops']\")\n",
    "layovers_list = [value.text for value in layovers]\n",
    "\n",
    "now = datetime.datetime.now()\n",
    "current_date = (str(now.year) + '-' + str(now.month) + '-' + str(now.day))\n",
    "current_time = (str(now.hour) + ':' + str(now.minute))\n",
    "current_price = 'price' + '(' + current_date + '---' + current_time + ')'\n",
    "\n",
    "for i in range(len(dep_times_list)):\n",
    "    try:\n",
    "        df.loc[i, 'departure_time'] = dep_times_list[i]\n",
    "    except Exception as e:\n",
    "        pass\n",
    "    \n",
    "    try:\n",
    "        df.loc[i, 'arrival_time'] = arr_times_list[i]\n",
    "    except Exception as e:\n",
    "            pass\n",
    "     \n",
    "    try: \n",
    "        df.loc[i, 'airline'] = airlines_list[i]\n",
    "    except Exception as e:\n",
    "            pass\n",
    "    try:\n",
    "        df.loc[i, 'duration'] = durations_list[i]\n",
    "    except Exception as e:\n",
    "            pass \n",
    "    try:\n",
    "        df.loc[i, 'stops'] = stops_list[i]\n",
    "    except Exception as e:\n",
    "            pass \n",
    "    try:\n",
    "        df.loc[i, 'layovers'] = layovers_list[i]\n",
    "    except Exception as e:\n",
    "            pass\n",
    "    try:\n",
    "        df.loc[i, str(current_price)] = price_list[i]\n",
    "    except Exception as e:\n",
    "            pass \n",
    "        \n",
    "    print('Comma Separated Value File Created!')    "
   ]
  },
  {
   "cell_type": "code",
   "execution_count": null,
   "id": "04c048dd",
   "metadata": {},
   "outputs": [],
   "source": [
    "Source = Location[0:len(Location):2]\n",
    "Destination = Location[1:len(Location):2]"
   ]
  },
  {
   "cell_type": "code",
   "execution_count": null,
   "id": "86a24dfc",
   "metadata": {},
   "outputs": [],
   "source": [
    "# let's Checking lengths of all features\n",
    "print(len(Airline),len(Source),len(Destination),len(Departure_Time),len(Arrival_Time),len(Duration),len(Meal),len(Total_Stops),len(Price),len(Location))\n",
    " "
   ]
  },
  {
   "cell_type": "code",
   "execution_count": null,
   "id": "7c413f23",
   "metadata": {},
   "outputs": [],
   "source": [
    "# Creating a dataframe for scraped data\n",
    "data = list(zip(Airline,Source,Destination,Departure_Time,Arrival_Time,Duration,Meal,Total_Stops))\n",
    "df = pd.DataFrame(data, columns = [\"Airline\",\n",
    "                                   \"Departure_time\",\n",
    "                                   \"Time_of_arrival\",\n",
    "                                   \"Duration\", \n",
    "                                   \"Source\",\n",
    "                                   \"Destination\",\n",
    "                                   \"Meal_availability\",\n",
    "                                   \"Number_of_stops\",\n",
    "                                   \"Price\"])\n",
    "\n",
    "df()"
   ]
  },
  {
   "cell_type": "markdown",
   "id": "703db178",
   "metadata": {},
   "source": [
    "## Done"
   ]
  },
  {
   "cell_type": "code",
   "execution_count": null,
   "id": "28709a5e",
   "metadata": {},
   "outputs": [],
   "source": []
  }
 ],
 "metadata": {
  "kernelspec": {
   "display_name": "Python 3",
   "language": "python",
   "name": "python3"
  },
  "language_info": {
   "codemirror_mode": {
    "name": "ipython",
    "version": 3
   },
   "file_extension": ".py",
   "mimetype": "text/x-python",
   "name": "python",
   "nbconvert_exporter": "python",
   "pygments_lexer": "ipython3",
   "version": "3.8.8"
  }
 },
 "nbformat": 4,
 "nbformat_minor": 5
}
